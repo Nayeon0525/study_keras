{
  "nbformat": 4,
  "nbformat_minor": 0,
  "metadata": {
    "colab": {
      "name": "[DL]Multiinput_CNN",
      "provenance": [],
      "authorship_tag": "ABX9TyOsgxMHxcIHk/ywDw4sQbb6",
      "include_colab_link": true
    },
    "kernelspec": {
      "name": "python3",
      "display_name": "Python 3"
    },
    "accelerator": "GPU"
  },
  "cells": [
    {
      "cell_type": "markdown",
      "metadata": {
        "id": "view-in-github",
        "colab_type": "text"
      },
      "source": [
        "<a href=\"https://colab.research.google.com/github/Nayeon0525/study_keras/blob/master/%5BDL%5DMultiinput_CNN.ipynb\" target=\"_parent\"><img src=\"https://colab.research.google.com/assets/colab-badge.svg\" alt=\"Open In Colab\"/></a>"
      ]
    },
    {
      "cell_type": "markdown",
      "metadata": {
        "id": "6rxDMzKsuWv0"
      },
      "source": [
        "# Y형 CNN 생성 & 성능 확인\n",
        "## 00. Intro\n",
        "* 데이터: MNIST 데이터 (training, validation, test 영상 수는 교재와 동일) \n",
        "* 2개의 branch의 다중입력 사용\n",
        "* branch 1: 3x3 kernel, 3층의 convLayer\n",
        "* branch 2: 3x3 kernel, 3층의 convLayer, dilated=2\n",
        "> **dilated convolution**\n",
        "> * 일반적으로 3x3 kernel은 receptive field가 3x3이다.   \n",
        "> * receptive field란 kernel이 한 번에 보는 영역, receptive field가 증가하면 계산량 증가, 정보의 양도 증가 --> 성능은 좋아질 수 있지만 연산량이 증가한다는 단점이 있음.  \n",
        "> * Pooling을 할 경우 연산량과 함께 정보의 손실도 발생함 --> dilated convolution으로 해결\n",
        "> * dilation은 receptive field는 증가시키지만 연산량은 그대로\n",
        "> * ex) dilation factor = 2 & kernel size = 3x3 --> receptive field = 5x5 \n",
        "\n",
        "* 1개의 branch를 가진 FCN  단일출력\n"
      ]
    },
    {
      "cell_type": "markdown",
      "metadata": {
        "id": "lDxmRKEPxa3f"
      },
      "source": [
        "## 01. Load the datasets\n",
        "* `from keras.datasets import mnist`, `mnist.load_data()`를 통해 mnist datasets를 download한다. \n",
        "* train data 60000개, test data 10000개\n",
        "* 책에서 validation data를 사용하지 않아 임의로 test data에서 5000개씩 나눠 사용했다.\n"
      ]
    },
    {
      "cell_type": "code",
      "metadata": {
        "id": "cQauFOrpt9rs"
      },
      "source": [
        "from keras.datasets import mnist"
      ],
      "execution_count": 1,
      "outputs": []
    },
    {
      "cell_type": "code",
      "metadata": {
        "id": "iLLrRhwCuN-g"
      },
      "source": [
        "# Downloading data\n",
        "(X_train, y_train), (X_test, y_test) = mnist.load_data()"
      ],
      "execution_count": 2,
      "outputs": []
    },
    {
      "cell_type": "code",
      "metadata": {
        "id": "9aMfj4a_whKT",
        "outputId": "fde66527-5f26-4720-e4a5-5aa5209ecb95",
        "colab": {
          "base_uri": "https://localhost:8080/",
          "height": 55
        }
      },
      "source": [
        "print(\"shape of X_train: \", X_train.shape)\n",
        "print(\"shape of X_test: \", X_test.shape)"
      ],
      "execution_count": 3,
      "outputs": [
        {
          "output_type": "stream",
          "text": [
            "shape of X_train:  (60000, 28, 28)\n",
            "shape of X_test:  (10000, 28, 28)\n"
          ],
          "name": "stdout"
        }
      ]
    },
    {
      "cell_type": "markdown",
      "metadata": {
        "id": "exwfov9L2xLL"
      },
      "source": [
        "## 02. Data Preprocessing"
      ]
    },
    {
      "cell_type": "code",
      "metadata": {
        "id": "0NoPll_LDakd",
        "outputId": "8c56c251-5c0c-4ec4-c884-08b688ea9567",
        "colab": {
          "base_uri": "https://localhost:8080/",
          "height": 55
        }
      },
      "source": [
        "img_rows = X_train.shape[1]\n",
        "img_cols = X_train.shape[2]\n",
        "\n",
        "print(\"row: \", img_rows)\n",
        "print(\"col: \", img_cols)"
      ],
      "execution_count": 4,
      "outputs": [
        {
          "output_type": "stream",
          "text": [
            "row:  28\n",
            "col:  28\n"
          ],
          "name": "stdout"
        }
      ]
    },
    {
      "cell_type": "code",
      "metadata": {
        "id": "w9_J59XHD5mf"
      },
      "source": [
        "# normalization\n",
        "X_train = X_train.reshape(X_train.shape[0], img_rows, img_cols, 1)\n",
        "X_test = X_test.reshape(X_test.shape[0], img_rows, img_cols, 1)\n",
        "\n",
        "X_train = X_train.astype('float32') / 255.\n",
        "X_test = X_test.astype('float32') / 255."
      ],
      "execution_count": 5,
      "outputs": []
    },
    {
      "cell_type": "code",
      "metadata": {
        "id": "G32gyMbNEeHh"
      },
      "source": [
        "input_shape = (img_rows, img_cols, 1)\n",
        "batch_size = 128\n",
        "num_class = 10\n",
        "epoch = 10"
      ],
      "execution_count": 6,
      "outputs": []
    },
    {
      "cell_type": "code",
      "metadata": {
        "id": "Nuc6HQAidmyT"
      },
      "source": [
        "X_val = X_test[:5000, :, :, :]\n",
        "X_test = X_test[5000:, :, :, :]"
      ],
      "execution_count": 7,
      "outputs": []
    },
    {
      "cell_type": "code",
      "metadata": {
        "id": "8bcl1YqREeKP"
      },
      "source": [
        "from keras.utils import to_categorical\n",
        "\n",
        "y_train = to_categorical(y_train, num_class)\n",
        "y_test = to_categorical(y_test, num_class)"
      ],
      "execution_count": 8,
      "outputs": []
    },
    {
      "cell_type": "code",
      "metadata": {
        "id": "IKj_kK0OEeM5"
      },
      "source": [
        "y_val = y_test[:5000, :]\n",
        "y_test = y_test[5000:, :]"
      ],
      "execution_count": 9,
      "outputs": []
    },
    {
      "cell_type": "code",
      "metadata": {
        "id": "tbDoQZUKeCJm",
        "outputId": "fc207c7a-fc66-45d0-ca1d-c0ffded8c5ea",
        "colab": {
          "base_uri": "https://localhost:8080/",
          "height": 73
        }
      },
      "source": [
        "print(\"Train) X: {} | y: {}\".format(X_train.shape, y_train.shape))\n",
        "print(\"Validation) X: {} | y: {}\".format(X_val.shape, y_val.shape))\n",
        "print(\"Test) X: {} | y: {}\".format(X_test.shape, y_test.shape))\n"
      ],
      "execution_count": 14,
      "outputs": [
        {
          "output_type": "stream",
          "text": [
            "Train) X: (60000, 28, 28, 1) | y: (60000, 10)\n",
            "Validation) X: (5000, 28, 28, 1) | y: (5000, 10)\n",
            "Test) X: (5000, 28, 28, 1) | y: (5000, 10)\n"
          ],
          "name": "stdout"
        }
      ]
    },
    {
      "cell_type": "code",
      "metadata": {
        "id": "YaYWhWkZ2RVN"
      },
      "source": [
        ""
      ],
      "execution_count": 22,
      "outputs": []
    },
    {
      "cell_type": "markdown",
      "metadata": {
        "id": "ZvvfXSsw21Ld"
      },
      "source": [
        "## 03. Constructing the Model"
      ]
    },
    {
      "cell_type": "code",
      "metadata": {
        "id": "tUSUzenPymzq"
      },
      "source": [
        "import os\n",
        "import numpy as np\n",
        "from keras.layers import *\n",
        "from keras.models import *"
      ],
      "execution_count": 15,
      "outputs": []
    },
    {
      "cell_type": "code",
      "metadata": {
        "id": "IDALX6kt0IrY"
      },
      "source": [
        "# Input Branch 1\n",
        "inputs_1 = Input(input_shape)\n",
        "x = Conv2D(32, 3, activation='relu')(inputs_1)\n",
        "x = MaxPooling2D((2, 2))(x)\n",
        "x = Conv2D(64, 3, activation='relu')(x)\n",
        "x = MaxPooling2D((2, 2))(x)\n",
        "x = Dropout(0.2)(x)\n",
        "x = Conv2D(64, 3, activation='relu')(x)\n",
        "#x = MaxPooling2D((2, 2))(x)\n",
        "x = Dropout(0.2)(x)\n",
        "\n",
        "# Input Branch 2\n",
        "inputs_2 = Input(input_shape)\n",
        "w = Conv2D(32, 3, dilation_rate=(2, 2), activation='relu')(inputs_2)\n",
        "#w = MaxPooling2D((2, 2))(w)\n",
        "w = Conv2D(64, 3, dilation_rate=(2, 2), activation='relu')(w)\n",
        "w = MaxPooling2D((2, 2))(w)\n",
        "w = Dropout(0.2)(w)\n",
        "w = Conv2D(64, 3, dilation_rate=(2, 2), activation='relu')(w)\n",
        "w = MaxPooling2D((2, 2))(w)\n",
        "w = Dropout(0.2)(w)\n",
        "\n",
        "# Conatenate & Output layer\n",
        "concat = Concatenate(axis=-1)([x, w])\n",
        "concat = Flatten()(concat)\n",
        "concat = Dense(512, activation='relu')(concat)\n",
        "concat = Dropout(0.5)(concat)\n",
        "output = Dense(10, activation='softmax')(concat)\n",
        "\n"
      ],
      "execution_count": 16,
      "outputs": []
    },
    {
      "cell_type": "code",
      "metadata": {
        "id": "P2WSp9AR0Wxd"
      },
      "source": [
        "model = Model([inputs_1, inputs_2], output)"
      ],
      "execution_count": 17,
      "outputs": []
    },
    {
      "cell_type": "code",
      "metadata": {
        "id": "lqBtLzoT0vNu"
      },
      "source": [
        "model.compile(optimizer='adam', loss='categorical_crossentropy', metrics=['acc'])"
      ],
      "execution_count": 18,
      "outputs": []
    },
    {
      "cell_type": "code",
      "metadata": {
        "id": "1Cv4Dbk7IOw8"
      },
      "source": [
        "from IPython.display import SVG\n",
        "from keras.utils.vis_utils import model_to_dot"
      ],
      "execution_count": 19,
      "outputs": []
    },
    {
      "cell_type": "code",
      "metadata": {
        "id": "ARkY_tmkIZEp",
        "outputId": "58bfe13e-70b7-4ce2-ede3-d914e1369258",
        "colab": {
          "base_uri": "https://localhost:8080/",
          "height": 1000
        }
      },
      "source": [
        "SVG(model_to_dot(model, show_shapes=True, dpi=65).create(prog='dot', format='svg'))"
      ],
      "execution_count": 20,
      "outputs": [
        {
          "output_type": "execute_result",
          "data": {
            "text/plain": [
              "<IPython.core.display.SVG object>"
            ],
            "image/svg+xml": "<svg height=\"949pt\" viewBox=\"0.00 0.00 737.50 1051.00\" width=\"666pt\" xmlns=\"http://www.w3.org/2000/svg\" xmlns:xlink=\"http://www.w3.org/1999/xlink\">\n<g class=\"graph\" id=\"graph0\" transform=\"scale(.9028 .9028) rotate(0) translate(4 1047)\">\n<title>G</title>\n<polygon fill=\"#ffffff\" points=\"-4,4 -4,-1047 733.5,-1047 733.5,4 -4,4\" stroke=\"transparent\"/>\n<!-- 140010467568888 -->\n<g class=\"node\" id=\"node1\">\n<title>140010467568888</title>\n<polygon fill=\"none\" points=\"42.5,-996.5 42.5,-1042.5 334.5,-1042.5 334.5,-996.5 42.5,-996.5\" stroke=\"#000000\"/>\n<text fill=\"#000000\" font-family=\"Times,serif\" font-size=\"14.00\" text-anchor=\"middle\" x=\"109\" y=\"-1015.8\">input_1: InputLayer</text>\n<polyline fill=\"none\" points=\"175.5,-996.5 175.5,-1042.5 \" stroke=\"#000000\"/>\n<text fill=\"#000000\" font-family=\"Times,serif\" font-size=\"14.00\" text-anchor=\"middle\" x=\"204.5\" y=\"-1027.3\">input:</text>\n<polyline fill=\"none\" points=\"175.5,-1019.5 233.5,-1019.5 \" stroke=\"#000000\"/>\n<text fill=\"#000000\" font-family=\"Times,serif\" font-size=\"14.00\" text-anchor=\"middle\" x=\"204.5\" y=\"-1004.3\">output:</text>\n<polyline fill=\"none\" points=\"233.5,-996.5 233.5,-1042.5 \" stroke=\"#000000\"/>\n<text fill=\"#000000\" font-family=\"Times,serif\" font-size=\"14.00\" text-anchor=\"middle\" x=\"284\" y=\"-1027.3\">[(?, 28, 28, 1)]</text>\n<polyline fill=\"none\" points=\"233.5,-1019.5 334.5,-1019.5 \" stroke=\"#000000\"/>\n<text fill=\"#000000\" font-family=\"Times,serif\" font-size=\"14.00\" text-anchor=\"middle\" x=\"284\" y=\"-1004.3\">[(?, 28, 28, 1)]</text>\n</g>\n<!-- 140009820235536 -->\n<g class=\"node\" id=\"node3\">\n<title>140009820235536</title>\n<polygon fill=\"none\" points=\"51,-913.5 51,-959.5 326,-959.5 326,-913.5 51,-913.5\" stroke=\"#000000\"/>\n<text fill=\"#000000\" font-family=\"Times,serif\" font-size=\"14.00\" text-anchor=\"middle\" x=\"110\" y=\"-932.8\">conv2d: Conv2D</text>\n<polyline fill=\"none\" points=\"169,-913.5 169,-959.5 \" stroke=\"#000000\"/>\n<text fill=\"#000000\" font-family=\"Times,serif\" font-size=\"14.00\" text-anchor=\"middle\" x=\"198\" y=\"-944.3\">input:</text>\n<polyline fill=\"none\" points=\"169,-936.5 227,-936.5 \" stroke=\"#000000\"/>\n<text fill=\"#000000\" font-family=\"Times,serif\" font-size=\"14.00\" text-anchor=\"middle\" x=\"198\" y=\"-921.3\">output:</text>\n<polyline fill=\"none\" points=\"227,-913.5 227,-959.5 \" stroke=\"#000000\"/>\n<text fill=\"#000000\" font-family=\"Times,serif\" font-size=\"14.00\" text-anchor=\"middle\" x=\"276.5\" y=\"-944.3\">(?, 28, 28, 1)</text>\n<polyline fill=\"none\" points=\"227,-936.5 326,-936.5 \" stroke=\"#000000\"/>\n<text fill=\"#000000\" font-family=\"Times,serif\" font-size=\"14.00\" text-anchor=\"middle\" x=\"276.5\" y=\"-921.3\">(?, 26, 26, 32)</text>\n</g>\n<!-- 140010467568888&#45;&gt;140009820235536 -->\n<g class=\"edge\" id=\"edge1\">\n<title>140010467568888-&gt;140009820235536</title>\n<path d=\"M188.5,-996.3799C188.5,-988.1745 188.5,-978.7679 188.5,-969.8786\" fill=\"none\" stroke=\"#000000\"/>\n<polygon fill=\"#000000\" points=\"192.0001,-969.784 188.5,-959.784 185.0001,-969.784 192.0001,-969.784\" stroke=\"#000000\"/>\n</g>\n<!-- 140009225646824 -->\n<g class=\"node\" id=\"node2\">\n<title>140009225646824</title>\n<polygon fill=\"none\" points=\"394.5,-996.5 394.5,-1042.5 686.5,-1042.5 686.5,-996.5 394.5,-996.5\" stroke=\"#000000\"/>\n<text fill=\"#000000\" font-family=\"Times,serif\" font-size=\"14.00\" text-anchor=\"middle\" x=\"461\" y=\"-1015.8\">input_2: InputLayer</text>\n<polyline fill=\"none\" points=\"527.5,-996.5 527.5,-1042.5 \" stroke=\"#000000\"/>\n<text fill=\"#000000\" font-family=\"Times,serif\" font-size=\"14.00\" text-anchor=\"middle\" x=\"556.5\" y=\"-1027.3\">input:</text>\n<polyline fill=\"none\" points=\"527.5,-1019.5 585.5,-1019.5 \" stroke=\"#000000\"/>\n<text fill=\"#000000\" font-family=\"Times,serif\" font-size=\"14.00\" text-anchor=\"middle\" x=\"556.5\" y=\"-1004.3\">output:</text>\n<polyline fill=\"none\" points=\"585.5,-996.5 585.5,-1042.5 \" stroke=\"#000000\"/>\n<text fill=\"#000000\" font-family=\"Times,serif\" font-size=\"14.00\" text-anchor=\"middle\" x=\"636\" y=\"-1027.3\">[(?, 28, 28, 1)]</text>\n<polyline fill=\"none\" points=\"585.5,-1019.5 686.5,-1019.5 \" stroke=\"#000000\"/>\n<text fill=\"#000000\" font-family=\"Times,serif\" font-size=\"14.00\" text-anchor=\"middle\" x=\"636\" y=\"-1004.3\">[(?, 28, 28, 1)]</text>\n</g>\n<!-- 140009225719032 -->\n<g class=\"node\" id=\"node4\">\n<title>140009225719032</title>\n<polygon fill=\"none\" points=\"395.5,-913.5 395.5,-959.5 685.5,-959.5 685.5,-913.5 395.5,-913.5\" stroke=\"#000000\"/>\n<text fill=\"#000000\" font-family=\"Times,serif\" font-size=\"14.00\" text-anchor=\"middle\" x=\"462\" y=\"-932.8\">conv2d_3: Conv2D</text>\n<polyline fill=\"none\" points=\"528.5,-913.5 528.5,-959.5 \" stroke=\"#000000\"/>\n<text fill=\"#000000\" font-family=\"Times,serif\" font-size=\"14.00\" text-anchor=\"middle\" x=\"557.5\" y=\"-944.3\">input:</text>\n<polyline fill=\"none\" points=\"528.5,-936.5 586.5,-936.5 \" stroke=\"#000000\"/>\n<text fill=\"#000000\" font-family=\"Times,serif\" font-size=\"14.00\" text-anchor=\"middle\" x=\"557.5\" y=\"-921.3\">output:</text>\n<polyline fill=\"none\" points=\"586.5,-913.5 586.5,-959.5 \" stroke=\"#000000\"/>\n<text fill=\"#000000\" font-family=\"Times,serif\" font-size=\"14.00\" text-anchor=\"middle\" x=\"636\" y=\"-944.3\">(?, 28, 28, 1)</text>\n<polyline fill=\"none\" points=\"586.5,-936.5 685.5,-936.5 \" stroke=\"#000000\"/>\n<text fill=\"#000000\" font-family=\"Times,serif\" font-size=\"14.00\" text-anchor=\"middle\" x=\"636\" y=\"-921.3\">(?, 24, 24, 32)</text>\n</g>\n<!-- 140009225646824&#45;&gt;140009225719032 -->\n<g class=\"edge\" id=\"edge2\">\n<title>140009225646824-&gt;140009225719032</title>\n<path d=\"M540.5,-996.3799C540.5,-988.1745 540.5,-978.7679 540.5,-969.8786\" fill=\"none\" stroke=\"#000000\"/>\n<polygon fill=\"#000000\" points=\"544.0001,-969.784 540.5,-959.784 537.0001,-969.784 544.0001,-969.784\" stroke=\"#000000\"/>\n</g>\n<!-- 140010467578992 -->\n<g class=\"node\" id=\"node5\">\n<title>140010467578992</title>\n<polygon fill=\"none\" points=\"7,-830.5 7,-876.5 370,-876.5 370,-830.5 7,-830.5\" stroke=\"#000000\"/>\n<text fill=\"#000000\" font-family=\"Times,serif\" font-size=\"14.00\" text-anchor=\"middle\" x=\"110\" y=\"-849.8\">max_pooling2d: MaxPooling2D</text>\n<polyline fill=\"none\" points=\"213,-830.5 213,-876.5 \" stroke=\"#000000\"/>\n<text fill=\"#000000\" font-family=\"Times,serif\" font-size=\"14.00\" text-anchor=\"middle\" x=\"242\" y=\"-861.3\">input:</text>\n<polyline fill=\"none\" points=\"213,-853.5 271,-853.5 \" stroke=\"#000000\"/>\n<text fill=\"#000000\" font-family=\"Times,serif\" font-size=\"14.00\" text-anchor=\"middle\" x=\"242\" y=\"-838.3\">output:</text>\n<polyline fill=\"none\" points=\"271,-830.5 271,-876.5 \" stroke=\"#000000\"/>\n<text fill=\"#000000\" font-family=\"Times,serif\" font-size=\"14.00\" text-anchor=\"middle\" x=\"320.5\" y=\"-861.3\">(?, 26, 26, 32)</text>\n<polyline fill=\"none\" points=\"271,-853.5 370,-853.5 \" stroke=\"#000000\"/>\n<text fill=\"#000000\" font-family=\"Times,serif\" font-size=\"14.00\" text-anchor=\"middle\" x=\"320.5\" y=\"-838.3\">(?, 13, 13, 32)</text>\n</g>\n<!-- 140009820235536&#45;&gt;140010467578992 -->\n<g class=\"edge\" id=\"edge3\">\n<title>140009820235536-&gt;140010467578992</title>\n<path d=\"M188.5,-913.3799C188.5,-905.1745 188.5,-895.7679 188.5,-886.8786\" fill=\"none\" stroke=\"#000000\"/>\n<polygon fill=\"#000000\" points=\"192.0001,-886.784 188.5,-876.784 185.0001,-886.784 192.0001,-886.784\" stroke=\"#000000\"/>\n</g>\n<!-- 140010467574336 -->\n<g class=\"node\" id=\"node6\">\n<title>140010467574336</title>\n<polygon fill=\"none\" points=\"395.5,-830.5 395.5,-876.5 685.5,-876.5 685.5,-830.5 395.5,-830.5\" stroke=\"#000000\"/>\n<text fill=\"#000000\" font-family=\"Times,serif\" font-size=\"14.00\" text-anchor=\"middle\" x=\"462\" y=\"-849.8\">conv2d_4: Conv2D</text>\n<polyline fill=\"none\" points=\"528.5,-830.5 528.5,-876.5 \" stroke=\"#000000\"/>\n<text fill=\"#000000\" font-family=\"Times,serif\" font-size=\"14.00\" text-anchor=\"middle\" x=\"557.5\" y=\"-861.3\">input:</text>\n<polyline fill=\"none\" points=\"528.5,-853.5 586.5,-853.5 \" stroke=\"#000000\"/>\n<text fill=\"#000000\" font-family=\"Times,serif\" font-size=\"14.00\" text-anchor=\"middle\" x=\"557.5\" y=\"-838.3\">output:</text>\n<polyline fill=\"none\" points=\"586.5,-830.5 586.5,-876.5 \" stroke=\"#000000\"/>\n<text fill=\"#000000\" font-family=\"Times,serif\" font-size=\"14.00\" text-anchor=\"middle\" x=\"636\" y=\"-861.3\">(?, 24, 24, 32)</text>\n<polyline fill=\"none\" points=\"586.5,-853.5 685.5,-853.5 \" stroke=\"#000000\"/>\n<text fill=\"#000000\" font-family=\"Times,serif\" font-size=\"14.00\" text-anchor=\"middle\" x=\"636\" y=\"-838.3\">(?, 20, 20, 64)</text>\n</g>\n<!-- 140009225719032&#45;&gt;140010467574336 -->\n<g class=\"edge\" id=\"edge4\">\n<title>140009225719032-&gt;140010467574336</title>\n<path d=\"M540.5,-913.3799C540.5,-905.1745 540.5,-895.7679 540.5,-886.8786\" fill=\"none\" stroke=\"#000000\"/>\n<polygon fill=\"#000000\" points=\"544.0001,-886.784 540.5,-876.784 537.0001,-886.784 544.0001,-886.784\" stroke=\"#000000\"/>\n</g>\n<!-- 140009488414424 -->\n<g class=\"node\" id=\"node7\">\n<title>140009488414424</title>\n<polygon fill=\"none\" points=\"43.5,-747.5 43.5,-793.5 333.5,-793.5 333.5,-747.5 43.5,-747.5\" stroke=\"#000000\"/>\n<text fill=\"#000000\" font-family=\"Times,serif\" font-size=\"14.00\" text-anchor=\"middle\" x=\"110\" y=\"-766.8\">conv2d_1: Conv2D</text>\n<polyline fill=\"none\" points=\"176.5,-747.5 176.5,-793.5 \" stroke=\"#000000\"/>\n<text fill=\"#000000\" font-family=\"Times,serif\" font-size=\"14.00\" text-anchor=\"middle\" x=\"205.5\" y=\"-778.3\">input:</text>\n<polyline fill=\"none\" points=\"176.5,-770.5 234.5,-770.5 \" stroke=\"#000000\"/>\n<text fill=\"#000000\" font-family=\"Times,serif\" font-size=\"14.00\" text-anchor=\"middle\" x=\"205.5\" y=\"-755.3\">output:</text>\n<polyline fill=\"none\" points=\"234.5,-747.5 234.5,-793.5 \" stroke=\"#000000\"/>\n<text fill=\"#000000\" font-family=\"Times,serif\" font-size=\"14.00\" text-anchor=\"middle\" x=\"284\" y=\"-778.3\">(?, 13, 13, 32)</text>\n<polyline fill=\"none\" points=\"234.5,-770.5 333.5,-770.5 \" stroke=\"#000000\"/>\n<text fill=\"#000000\" font-family=\"Times,serif\" font-size=\"14.00\" text-anchor=\"middle\" x=\"284\" y=\"-755.3\">(?, 11, 11, 64)</text>\n</g>\n<!-- 140010467578992&#45;&gt;140009488414424 -->\n<g class=\"edge\" id=\"edge5\">\n<title>140010467578992-&gt;140009488414424</title>\n<path d=\"M188.5,-830.3799C188.5,-822.1745 188.5,-812.7679 188.5,-803.8786\" fill=\"none\" stroke=\"#000000\"/>\n<polygon fill=\"#000000\" points=\"192.0001,-803.784 188.5,-793.784 185.0001,-803.784 192.0001,-803.784\" stroke=\"#000000\"/>\n</g>\n<!-- 140009225792816 -->\n<g class=\"node\" id=\"node8\">\n<title>140009225792816</title>\n<polygon fill=\"none\" points=\"351.5,-747.5 351.5,-793.5 729.5,-793.5 729.5,-747.5 351.5,-747.5\" stroke=\"#000000\"/>\n<text fill=\"#000000\" font-family=\"Times,serif\" font-size=\"14.00\" text-anchor=\"middle\" x=\"462\" y=\"-766.8\">max_pooling2d_2: MaxPooling2D</text>\n<polyline fill=\"none\" points=\"572.5,-747.5 572.5,-793.5 \" stroke=\"#000000\"/>\n<text fill=\"#000000\" font-family=\"Times,serif\" font-size=\"14.00\" text-anchor=\"middle\" x=\"601.5\" y=\"-778.3\">input:</text>\n<polyline fill=\"none\" points=\"572.5,-770.5 630.5,-770.5 \" stroke=\"#000000\"/>\n<text fill=\"#000000\" font-family=\"Times,serif\" font-size=\"14.00\" text-anchor=\"middle\" x=\"601.5\" y=\"-755.3\">output:</text>\n<polyline fill=\"none\" points=\"630.5,-747.5 630.5,-793.5 \" stroke=\"#000000\"/>\n<text fill=\"#000000\" font-family=\"Times,serif\" font-size=\"14.00\" text-anchor=\"middle\" x=\"680\" y=\"-778.3\">(?, 20, 20, 64)</text>\n<polyline fill=\"none\" points=\"630.5,-770.5 729.5,-770.5 \" stroke=\"#000000\"/>\n<text fill=\"#000000\" font-family=\"Times,serif\" font-size=\"14.00\" text-anchor=\"middle\" x=\"680\" y=\"-755.3\">(?, 10, 10, 64)</text>\n</g>\n<!-- 140010467574336&#45;&gt;140009225792816 -->\n<g class=\"edge\" id=\"edge6\">\n<title>140010467574336-&gt;140009225792816</title>\n<path d=\"M540.5,-830.3799C540.5,-822.1745 540.5,-812.7679 540.5,-803.8786\" fill=\"none\" stroke=\"#000000\"/>\n<polygon fill=\"#000000\" points=\"544.0001,-803.784 540.5,-793.784 537.0001,-803.784 544.0001,-803.784\" stroke=\"#000000\"/>\n</g>\n<!-- 140010467567712 -->\n<g class=\"node\" id=\"node9\">\n<title>140010467567712</title>\n<polygon fill=\"none\" points=\"0,-664.5 0,-710.5 377,-710.5 377,-664.5 0,-664.5\" stroke=\"#000000\"/>\n<text fill=\"#000000\" font-family=\"Times,serif\" font-size=\"14.00\" text-anchor=\"middle\" x=\"110.5\" y=\"-683.8\">max_pooling2d_1: MaxPooling2D</text>\n<polyline fill=\"none\" points=\"221,-664.5 221,-710.5 \" stroke=\"#000000\"/>\n<text fill=\"#000000\" font-family=\"Times,serif\" font-size=\"14.00\" text-anchor=\"middle\" x=\"250\" y=\"-695.3\">input:</text>\n<polyline fill=\"none\" points=\"221,-687.5 279,-687.5 \" stroke=\"#000000\"/>\n<text fill=\"#000000\" font-family=\"Times,serif\" font-size=\"14.00\" text-anchor=\"middle\" x=\"250\" y=\"-672.3\">output:</text>\n<polyline fill=\"none\" points=\"279,-664.5 279,-710.5 \" stroke=\"#000000\"/>\n<text fill=\"#000000\" font-family=\"Times,serif\" font-size=\"14.00\" text-anchor=\"middle\" x=\"328\" y=\"-695.3\">(?, 11, 11, 64)</text>\n<polyline fill=\"none\" points=\"279,-687.5 377,-687.5 \" stroke=\"#000000\"/>\n<text fill=\"#000000\" font-family=\"Times,serif\" font-size=\"14.00\" text-anchor=\"middle\" x=\"328\" y=\"-672.3\">(?, 5, 5, 64)</text>\n</g>\n<!-- 140009488414424&#45;&gt;140010467567712 -->\n<g class=\"edge\" id=\"edge7\">\n<title>140009488414424-&gt;140010467567712</title>\n<path d=\"M188.5,-747.3799C188.5,-739.1745 188.5,-729.7679 188.5,-720.8786\" fill=\"none\" stroke=\"#000000\"/>\n<polygon fill=\"#000000\" points=\"192.0001,-720.784 188.5,-710.784 185.0001,-720.784 192.0001,-720.784\" stroke=\"#000000\"/>\n</g>\n<!-- 140009225791024 -->\n<g class=\"node\" id=\"node10\">\n<title>140009225791024</title>\n<polygon fill=\"none\" points=\"395,-664.5 395,-710.5 686,-710.5 686,-664.5 395,-664.5\" stroke=\"#000000\"/>\n<text fill=\"#000000\" font-family=\"Times,serif\" font-size=\"14.00\" text-anchor=\"middle\" x=\"462\" y=\"-683.8\">dropout_2: Dropout</text>\n<polyline fill=\"none\" points=\"529,-664.5 529,-710.5 \" stroke=\"#000000\"/>\n<text fill=\"#000000\" font-family=\"Times,serif\" font-size=\"14.00\" text-anchor=\"middle\" x=\"558\" y=\"-695.3\">input:</text>\n<polyline fill=\"none\" points=\"529,-687.5 587,-687.5 \" stroke=\"#000000\"/>\n<text fill=\"#000000\" font-family=\"Times,serif\" font-size=\"14.00\" text-anchor=\"middle\" x=\"558\" y=\"-672.3\">output:</text>\n<polyline fill=\"none\" points=\"587,-664.5 587,-710.5 \" stroke=\"#000000\"/>\n<text fill=\"#000000\" font-family=\"Times,serif\" font-size=\"14.00\" text-anchor=\"middle\" x=\"636.5\" y=\"-695.3\">(?, 10, 10, 64)</text>\n<polyline fill=\"none\" points=\"587,-687.5 686,-687.5 \" stroke=\"#000000\"/>\n<text fill=\"#000000\" font-family=\"Times,serif\" font-size=\"14.00\" text-anchor=\"middle\" x=\"636.5\" y=\"-672.3\">(?, 10, 10, 64)</text>\n</g>\n<!-- 140009225792816&#45;&gt;140009225791024 -->\n<g class=\"edge\" id=\"edge8\">\n<title>140009225792816-&gt;140009225791024</title>\n<path d=\"M540.5,-747.3799C540.5,-739.1745 540.5,-729.7679 540.5,-720.8786\" fill=\"none\" stroke=\"#000000\"/>\n<polygon fill=\"#000000\" points=\"544.0001,-720.784 540.5,-710.784 537.0001,-720.784 544.0001,-720.784\" stroke=\"#000000\"/>\n</g>\n<!-- 140010467566760 -->\n<g class=\"node\" id=\"node11\">\n<title>140010467566760</title>\n<polygon fill=\"none\" points=\"62,-581.5 62,-627.5 323,-627.5 323,-581.5 62,-581.5\" stroke=\"#000000\"/>\n<text fill=\"#000000\" font-family=\"Times,serif\" font-size=\"14.00\" text-anchor=\"middle\" x=\"121.5\" y=\"-600.8\">dropout: Dropout</text>\n<polyline fill=\"none\" points=\"181,-581.5 181,-627.5 \" stroke=\"#000000\"/>\n<text fill=\"#000000\" font-family=\"Times,serif\" font-size=\"14.00\" text-anchor=\"middle\" x=\"210\" y=\"-612.3\">input:</text>\n<polyline fill=\"none\" points=\"181,-604.5 239,-604.5 \" stroke=\"#000000\"/>\n<text fill=\"#000000\" font-family=\"Times,serif\" font-size=\"14.00\" text-anchor=\"middle\" x=\"210\" y=\"-589.3\">output:</text>\n<polyline fill=\"none\" points=\"239,-581.5 239,-627.5 \" stroke=\"#000000\"/>\n<text fill=\"#000000\" font-family=\"Times,serif\" font-size=\"14.00\" text-anchor=\"middle\" x=\"281\" y=\"-612.3\">(?, 5, 5, 64)</text>\n<polyline fill=\"none\" points=\"239,-604.5 323,-604.5 \" stroke=\"#000000\"/>\n<text fill=\"#000000\" font-family=\"Times,serif\" font-size=\"14.00\" text-anchor=\"middle\" x=\"281\" y=\"-589.3\">(?, 5, 5, 64)</text>\n</g>\n<!-- 140010467567712&#45;&gt;140010467566760 -->\n<g class=\"edge\" id=\"edge9\">\n<title>140010467567712-&gt;140010467566760</title>\n<path d=\"M189.6142,-664.3799C190.0097,-656.1745 190.463,-646.7679 190.8914,-637.8786\" fill=\"none\" stroke=\"#000000\"/>\n<polygon fill=\"#000000\" points=\"194.3924,-637.9409 191.3779,-627.784 187.4005,-637.6039 194.3924,-637.9409\" stroke=\"#000000\"/>\n</g>\n<!-- 140009225338104 -->\n<g class=\"node\" id=\"node12\">\n<title>140009225338104</title>\n<polygon fill=\"none\" points=\"394.5,-581.5 394.5,-627.5 684.5,-627.5 684.5,-581.5 394.5,-581.5\" stroke=\"#000000\"/>\n<text fill=\"#000000\" font-family=\"Times,serif\" font-size=\"14.00\" text-anchor=\"middle\" x=\"461\" y=\"-600.8\">conv2d_5: Conv2D</text>\n<polyline fill=\"none\" points=\"527.5,-581.5 527.5,-627.5 \" stroke=\"#000000\"/>\n<text fill=\"#000000\" font-family=\"Times,serif\" font-size=\"14.00\" text-anchor=\"middle\" x=\"556.5\" y=\"-612.3\">input:</text>\n<polyline fill=\"none\" points=\"527.5,-604.5 585.5,-604.5 \" stroke=\"#000000\"/>\n<text fill=\"#000000\" font-family=\"Times,serif\" font-size=\"14.00\" text-anchor=\"middle\" x=\"556.5\" y=\"-589.3\">output:</text>\n<polyline fill=\"none\" points=\"585.5,-581.5 585.5,-627.5 \" stroke=\"#000000\"/>\n<text fill=\"#000000\" font-family=\"Times,serif\" font-size=\"14.00\" text-anchor=\"middle\" x=\"635\" y=\"-612.3\">(?, 10, 10, 64)</text>\n<polyline fill=\"none\" points=\"585.5,-604.5 684.5,-604.5 \" stroke=\"#000000\"/>\n<text fill=\"#000000\" font-family=\"Times,serif\" font-size=\"14.00\" text-anchor=\"middle\" x=\"635\" y=\"-589.3\">(?, 6, 6, 64)</text>\n</g>\n<!-- 140009225791024&#45;&gt;140009225338104 -->\n<g class=\"edge\" id=\"edge10\">\n<title>140009225791024-&gt;140009225338104</title>\n<path d=\"M540.2214,-664.3799C540.1226,-656.1745 540.0093,-646.7679 539.9022,-637.8786\" fill=\"none\" stroke=\"#000000\"/>\n<polygon fill=\"#000000\" points=\"543.4008,-637.7411 539.7805,-627.784 536.4014,-637.8255 543.4008,-637.7411\" stroke=\"#000000\"/>\n</g>\n<!-- 140010467567264 -->\n<g class=\"node\" id=\"node13\">\n<title>140010467567264</title>\n<polygon fill=\"none\" points=\"62,-498.5 62,-544.5 337,-544.5 337,-498.5 62,-498.5\" stroke=\"#000000\"/>\n<text fill=\"#000000\" font-family=\"Times,serif\" font-size=\"14.00\" text-anchor=\"middle\" x=\"128.5\" y=\"-517.8\">conv2d_2: Conv2D</text>\n<polyline fill=\"none\" points=\"195,-498.5 195,-544.5 \" stroke=\"#000000\"/>\n<text fill=\"#000000\" font-family=\"Times,serif\" font-size=\"14.00\" text-anchor=\"middle\" x=\"224\" y=\"-529.3\">input:</text>\n<polyline fill=\"none\" points=\"195,-521.5 253,-521.5 \" stroke=\"#000000\"/>\n<text fill=\"#000000\" font-family=\"Times,serif\" font-size=\"14.00\" text-anchor=\"middle\" x=\"224\" y=\"-506.3\">output:</text>\n<polyline fill=\"none\" points=\"253,-498.5 253,-544.5 \" stroke=\"#000000\"/>\n<text fill=\"#000000\" font-family=\"Times,serif\" font-size=\"14.00\" text-anchor=\"middle\" x=\"295\" y=\"-529.3\">(?, 5, 5, 64)</text>\n<polyline fill=\"none\" points=\"253,-521.5 337,-521.5 \" stroke=\"#000000\"/>\n<text fill=\"#000000\" font-family=\"Times,serif\" font-size=\"14.00\" text-anchor=\"middle\" x=\"295\" y=\"-506.3\">(?, 3, 3, 64)</text>\n</g>\n<!-- 140010467566760&#45;&gt;140010467567264 -->\n<g class=\"edge\" id=\"edge11\">\n<title>140010467566760-&gt;140010467567264</title>\n<path d=\"M194.4499,-581.3799C195.1419,-573.1745 195.9352,-563.7679 196.6849,-554.8786\" fill=\"none\" stroke=\"#000000\"/>\n<polygon fill=\"#000000\" points=\"200.1834,-555.0428 197.5363,-544.784 193.2082,-554.4545 200.1834,-555.0428\" stroke=\"#000000\"/>\n</g>\n<!-- 140009225404544 -->\n<g class=\"node\" id=\"node14\">\n<title>140009225404544</title>\n<polygon fill=\"none\" points=\"357,-498.5 357,-544.5 720,-544.5 720,-498.5 357,-498.5\" stroke=\"#000000\"/>\n<text fill=\"#000000\" font-family=\"Times,serif\" font-size=\"14.00\" text-anchor=\"middle\" x=\"467.5\" y=\"-517.8\">max_pooling2d_3: MaxPooling2D</text>\n<polyline fill=\"none\" points=\"578,-498.5 578,-544.5 \" stroke=\"#000000\"/>\n<text fill=\"#000000\" font-family=\"Times,serif\" font-size=\"14.00\" text-anchor=\"middle\" x=\"607\" y=\"-529.3\">input:</text>\n<polyline fill=\"none\" points=\"578,-521.5 636,-521.5 \" stroke=\"#000000\"/>\n<text fill=\"#000000\" font-family=\"Times,serif\" font-size=\"14.00\" text-anchor=\"middle\" x=\"607\" y=\"-506.3\">output:</text>\n<polyline fill=\"none\" points=\"636,-498.5 636,-544.5 \" stroke=\"#000000\"/>\n<text fill=\"#000000\" font-family=\"Times,serif\" font-size=\"14.00\" text-anchor=\"middle\" x=\"678\" y=\"-529.3\">(?, 6, 6, 64)</text>\n<polyline fill=\"none\" points=\"636,-521.5 720,-521.5 \" stroke=\"#000000\"/>\n<text fill=\"#000000\" font-family=\"Times,serif\" font-size=\"14.00\" text-anchor=\"middle\" x=\"678\" y=\"-506.3\">(?, 3, 3, 64)</text>\n</g>\n<!-- 140009225338104&#45;&gt;140009225404544 -->\n<g class=\"edge\" id=\"edge12\">\n<title>140009225338104-&gt;140009225404544</title>\n<path d=\"M539.2214,-581.3799C539.1226,-573.1745 539.0093,-563.7679 538.9022,-554.8786\" fill=\"none\" stroke=\"#000000\"/>\n<polygon fill=\"#000000\" points=\"542.4008,-554.7411 538.7805,-544.784 535.4014,-554.8255 542.4008,-554.7411\" stroke=\"#000000\"/>\n</g>\n<!-- 140009486413896 -->\n<g class=\"node\" id=\"node15\">\n<title>140009486413896</title>\n<polygon fill=\"none\" points=\"82.5,-415.5 82.5,-461.5 358.5,-461.5 358.5,-415.5 82.5,-415.5\" stroke=\"#000000\"/>\n<text fill=\"#000000\" font-family=\"Times,serif\" font-size=\"14.00\" text-anchor=\"middle\" x=\"149.5\" y=\"-434.8\">dropout_1: Dropout</text>\n<polyline fill=\"none\" points=\"216.5,-415.5 216.5,-461.5 \" stroke=\"#000000\"/>\n<text fill=\"#000000\" font-family=\"Times,serif\" font-size=\"14.00\" text-anchor=\"middle\" x=\"245.5\" y=\"-446.3\">input:</text>\n<polyline fill=\"none\" points=\"216.5,-438.5 274.5,-438.5 \" stroke=\"#000000\"/>\n<text fill=\"#000000\" font-family=\"Times,serif\" font-size=\"14.00\" text-anchor=\"middle\" x=\"245.5\" y=\"-423.3\">output:</text>\n<polyline fill=\"none\" points=\"274.5,-415.5 274.5,-461.5 \" stroke=\"#000000\"/>\n<text fill=\"#000000\" font-family=\"Times,serif\" font-size=\"14.00\" text-anchor=\"middle\" x=\"316.5\" y=\"-446.3\">(?, 3, 3, 64)</text>\n<polyline fill=\"none\" points=\"274.5,-438.5 358.5,-438.5 \" stroke=\"#000000\"/>\n<text fill=\"#000000\" font-family=\"Times,serif\" font-size=\"14.00\" text-anchor=\"middle\" x=\"316.5\" y=\"-423.3\">(?, 3, 3, 64)</text>\n</g>\n<!-- 140010467567264&#45;&gt;140009486413896 -->\n<g class=\"edge\" id=\"edge13\">\n<title>140010467567264-&gt;140009486413896</title>\n<path d=\"M205.3497,-498.3799C207.4483,-490.0854 209.8575,-480.5633 212.1281,-471.5889\" fill=\"none\" stroke=\"#000000\"/>\n<polygon fill=\"#000000\" points=\"215.549,-472.337 214.6089,-461.784 208.7629,-470.62 215.549,-472.337\" stroke=\"#000000\"/>\n</g>\n<!-- 140009225406112 -->\n<g class=\"node\" id=\"node16\">\n<title>140009225406112</title>\n<polygon fill=\"none\" points=\"388.5,-415.5 388.5,-461.5 664.5,-461.5 664.5,-415.5 388.5,-415.5\" stroke=\"#000000\"/>\n<text fill=\"#000000\" font-family=\"Times,serif\" font-size=\"14.00\" text-anchor=\"middle\" x=\"455.5\" y=\"-434.8\">dropout_3: Dropout</text>\n<polyline fill=\"none\" points=\"522.5,-415.5 522.5,-461.5 \" stroke=\"#000000\"/>\n<text fill=\"#000000\" font-family=\"Times,serif\" font-size=\"14.00\" text-anchor=\"middle\" x=\"551.5\" y=\"-446.3\">input:</text>\n<polyline fill=\"none\" points=\"522.5,-438.5 580.5,-438.5 \" stroke=\"#000000\"/>\n<text fill=\"#000000\" font-family=\"Times,serif\" font-size=\"14.00\" text-anchor=\"middle\" x=\"551.5\" y=\"-423.3\">output:</text>\n<polyline fill=\"none\" points=\"580.5,-415.5 580.5,-461.5 \" stroke=\"#000000\"/>\n<text fill=\"#000000\" font-family=\"Times,serif\" font-size=\"14.00\" text-anchor=\"middle\" x=\"622.5\" y=\"-446.3\">(?, 3, 3, 64)</text>\n<polyline fill=\"none\" points=\"580.5,-438.5 664.5,-438.5 \" stroke=\"#000000\"/>\n<text fill=\"#000000\" font-family=\"Times,serif\" font-size=\"14.00\" text-anchor=\"middle\" x=\"622.5\" y=\"-423.3\">(?, 3, 3, 64)</text>\n</g>\n<!-- 140009225404544&#45;&gt;140009225406112 -->\n<g class=\"edge\" id=\"edge14\">\n<title>140009225404544-&gt;140009225406112</title>\n<path d=\"M535.1573,-498.3799C533.971,-490.1745 532.611,-480.7679 531.3258,-471.8786\" fill=\"none\" stroke=\"#000000\"/>\n<polygon fill=\"#000000\" points=\"534.7613,-471.1803 529.8664,-461.784 527.8334,-472.1819 534.7613,-471.1803\" stroke=\"#000000\"/>\n</g>\n<!-- 140009225444712 -->\n<g class=\"node\" id=\"node17\">\n<title>140009225444712</title>\n<polygon fill=\"none\" points=\"174.5,-332.5 174.5,-378.5 560.5,-378.5 560.5,-332.5 174.5,-332.5\" stroke=\"#000000\"/>\n<text fill=\"#000000\" font-family=\"Times,serif\" font-size=\"14.00\" text-anchor=\"middle\" x=\"254.5\" y=\"-351.8\">concatenate: Concatenate</text>\n<polyline fill=\"none\" points=\"334.5,-332.5 334.5,-378.5 \" stroke=\"#000000\"/>\n<text fill=\"#000000\" font-family=\"Times,serif\" font-size=\"14.00\" text-anchor=\"middle\" x=\"363.5\" y=\"-363.3\">input:</text>\n<polyline fill=\"none\" points=\"334.5,-355.5 392.5,-355.5 \" stroke=\"#000000\"/>\n<text fill=\"#000000\" font-family=\"Times,serif\" font-size=\"14.00\" text-anchor=\"middle\" x=\"363.5\" y=\"-340.3\">output:</text>\n<polyline fill=\"none\" points=\"392.5,-332.5 392.5,-378.5 \" stroke=\"#000000\"/>\n<text fill=\"#000000\" font-family=\"Times,serif\" font-size=\"14.00\" text-anchor=\"middle\" x=\"476.5\" y=\"-363.3\">[(?, 3, 3, 64), (?, 3, 3, 64)]</text>\n<polyline fill=\"none\" points=\"392.5,-355.5 560.5,-355.5 \" stroke=\"#000000\"/>\n<text fill=\"#000000\" font-family=\"Times,serif\" font-size=\"14.00\" text-anchor=\"middle\" x=\"476.5\" y=\"-340.3\">(?, 3, 3, 128)</text>\n</g>\n<!-- 140009486413896&#45;&gt;140009225444712 -->\n<g class=\"edge\" id=\"edge15\">\n<title>140009486413896-&gt;140009225444712</title>\n<path d=\"M261.4477,-415.3799C278.8963,-405.5279 299.4122,-393.9442 317.7265,-383.6034\" fill=\"none\" stroke=\"#000000\"/>\n<polygon fill=\"#000000\" points=\"319.5302,-386.6044 326.5172,-378.6399 316.0885,-380.5089 319.5302,-386.6044\" stroke=\"#000000\"/>\n</g>\n<!-- 140009225406112&#45;&gt;140009225444712 -->\n<g class=\"edge\" id=\"edge16\">\n<title>140009225406112-&gt;140009225444712</title>\n<path d=\"M482.2096,-415.3799C463.1651,-405.4384 440.7423,-393.7334 420.797,-383.3217\" fill=\"none\" stroke=\"#000000\"/>\n<polygon fill=\"#000000\" points=\"422.3129,-380.1649 411.8283,-378.6399 419.0735,-386.3703 422.3129,-380.1649\" stroke=\"#000000\"/>\n</g>\n<!-- 140009225407232 -->\n<g class=\"node\" id=\"node18\">\n<title>140009225407232</title>\n<polygon fill=\"none\" points=\"243.5,-249.5 243.5,-295.5 491.5,-295.5 491.5,-249.5 243.5,-249.5\" stroke=\"#000000\"/>\n<text fill=\"#000000\" font-family=\"Times,serif\" font-size=\"14.00\" text-anchor=\"middle\" x=\"292.5\" y=\"-268.8\">flatten: Flatten</text>\n<polyline fill=\"none\" points=\"341.5,-249.5 341.5,-295.5 \" stroke=\"#000000\"/>\n<text fill=\"#000000\" font-family=\"Times,serif\" font-size=\"14.00\" text-anchor=\"middle\" x=\"370.5\" y=\"-280.3\">input:</text>\n<polyline fill=\"none\" points=\"341.5,-272.5 399.5,-272.5 \" stroke=\"#000000\"/>\n<text fill=\"#000000\" font-family=\"Times,serif\" font-size=\"14.00\" text-anchor=\"middle\" x=\"370.5\" y=\"-257.3\">output:</text>\n<polyline fill=\"none\" points=\"399.5,-249.5 399.5,-295.5 \" stroke=\"#000000\"/>\n<text fill=\"#000000\" font-family=\"Times,serif\" font-size=\"14.00\" text-anchor=\"middle\" x=\"445.5\" y=\"-280.3\">(?, 3, 3, 128)</text>\n<polyline fill=\"none\" points=\"399.5,-272.5 491.5,-272.5 \" stroke=\"#000000\"/>\n<text fill=\"#000000\" font-family=\"Times,serif\" font-size=\"14.00\" text-anchor=\"middle\" x=\"445.5\" y=\"-257.3\">(?, 1152)</text>\n</g>\n<!-- 140009225444712&#45;&gt;140009225407232 -->\n<g class=\"edge\" id=\"edge17\">\n<title>140009225444712-&gt;140009225407232</title>\n<path d=\"M367.5,-332.3799C367.5,-324.1745 367.5,-314.7679 367.5,-305.8786\" fill=\"none\" stroke=\"#000000\"/>\n<polygon fill=\"#000000\" points=\"371.0001,-305.784 367.5,-295.784 364.0001,-305.784 371.0001,-305.784\" stroke=\"#000000\"/>\n</g>\n<!-- 140009225502672 -->\n<g class=\"node\" id=\"node19\">\n<title>140009225502672</title>\n<polygon fill=\"none\" points=\"258.5,-166.5 258.5,-212.5 476.5,-212.5 476.5,-166.5 258.5,-166.5\" stroke=\"#000000\"/>\n<text fill=\"#000000\" font-family=\"Times,serif\" font-size=\"14.00\" text-anchor=\"middle\" x=\"304.5\" y=\"-185.8\">dense: Dense</text>\n<polyline fill=\"none\" points=\"350.5,-166.5 350.5,-212.5 \" stroke=\"#000000\"/>\n<text fill=\"#000000\" font-family=\"Times,serif\" font-size=\"14.00\" text-anchor=\"middle\" x=\"379.5\" y=\"-197.3\">input:</text>\n<polyline fill=\"none\" points=\"350.5,-189.5 408.5,-189.5 \" stroke=\"#000000\"/>\n<text fill=\"#000000\" font-family=\"Times,serif\" font-size=\"14.00\" text-anchor=\"middle\" x=\"379.5\" y=\"-174.3\">output:</text>\n<polyline fill=\"none\" points=\"408.5,-166.5 408.5,-212.5 \" stroke=\"#000000\"/>\n<text fill=\"#000000\" font-family=\"Times,serif\" font-size=\"14.00\" text-anchor=\"middle\" x=\"442.5\" y=\"-197.3\">(?, 1152)</text>\n<polyline fill=\"none\" points=\"408.5,-189.5 476.5,-189.5 \" stroke=\"#000000\"/>\n<text fill=\"#000000\" font-family=\"Times,serif\" font-size=\"14.00\" text-anchor=\"middle\" x=\"442.5\" y=\"-174.3\">(?, 512)</text>\n</g>\n<!-- 140009225407232&#45;&gt;140009225502672 -->\n<g class=\"edge\" id=\"edge18\">\n<title>140009225407232-&gt;140009225502672</title>\n<path d=\"M367.5,-249.3799C367.5,-241.1745 367.5,-231.7679 367.5,-222.8786\" fill=\"none\" stroke=\"#000000\"/>\n<polygon fill=\"#000000\" points=\"371.0001,-222.784 367.5,-212.784 364.0001,-222.784 371.0001,-222.784\" stroke=\"#000000\"/>\n</g>\n<!-- 140009225500992 -->\n<g class=\"node\" id=\"node20\">\n<title>140009225500992</title>\n<polygon fill=\"none\" points=\"240.5,-83.5 240.5,-129.5 494.5,-129.5 494.5,-83.5 240.5,-83.5\" stroke=\"#000000\"/>\n<text fill=\"#000000\" font-family=\"Times,serif\" font-size=\"14.00\" text-anchor=\"middle\" x=\"307.5\" y=\"-102.8\">dropout_4: Dropout</text>\n<polyline fill=\"none\" points=\"374.5,-83.5 374.5,-129.5 \" stroke=\"#000000\"/>\n<text fill=\"#000000\" font-family=\"Times,serif\" font-size=\"14.00\" text-anchor=\"middle\" x=\"403.5\" y=\"-114.3\">input:</text>\n<polyline fill=\"none\" points=\"374.5,-106.5 432.5,-106.5 \" stroke=\"#000000\"/>\n<text fill=\"#000000\" font-family=\"Times,serif\" font-size=\"14.00\" text-anchor=\"middle\" x=\"403.5\" y=\"-91.3\">output:</text>\n<polyline fill=\"none\" points=\"432.5,-83.5 432.5,-129.5 \" stroke=\"#000000\"/>\n<text fill=\"#000000\" font-family=\"Times,serif\" font-size=\"14.00\" text-anchor=\"middle\" x=\"463.5\" y=\"-114.3\">(?, 512)</text>\n<polyline fill=\"none\" points=\"432.5,-106.5 494.5,-106.5 \" stroke=\"#000000\"/>\n<text fill=\"#000000\" font-family=\"Times,serif\" font-size=\"14.00\" text-anchor=\"middle\" x=\"463.5\" y=\"-91.3\">(?, 512)</text>\n</g>\n<!-- 140009225502672&#45;&gt;140009225500992 -->\n<g class=\"edge\" id=\"edge19\">\n<title>140009225502672-&gt;140009225500992</title>\n<path d=\"M367.5,-166.3799C367.5,-158.1745 367.5,-148.7679 367.5,-139.8786\" fill=\"none\" stroke=\"#000000\"/>\n<polygon fill=\"#000000\" points=\"371.0001,-139.784 367.5,-129.784 364.0001,-139.784 371.0001,-139.784\" stroke=\"#000000\"/>\n</g>\n<!-- 140009225502336 -->\n<g class=\"node\" id=\"node21\">\n<title>140009225502336</title>\n<polygon fill=\"none\" points=\"254,-.5 254,-46.5 481,-46.5 481,-.5 254,-.5\" stroke=\"#000000\"/>\n<text fill=\"#000000\" font-family=\"Times,serif\" font-size=\"14.00\" text-anchor=\"middle\" x=\"307.5\" y=\"-19.8\">dense_1: Dense</text>\n<polyline fill=\"none\" points=\"361,-.5 361,-46.5 \" stroke=\"#000000\"/>\n<text fill=\"#000000\" font-family=\"Times,serif\" font-size=\"14.00\" text-anchor=\"middle\" x=\"390\" y=\"-31.3\">input:</text>\n<polyline fill=\"none\" points=\"361,-23.5 419,-23.5 \" stroke=\"#000000\"/>\n<text fill=\"#000000\" font-family=\"Times,serif\" font-size=\"14.00\" text-anchor=\"middle\" x=\"390\" y=\"-8.3\">output:</text>\n<polyline fill=\"none\" points=\"419,-.5 419,-46.5 \" stroke=\"#000000\"/>\n<text fill=\"#000000\" font-family=\"Times,serif\" font-size=\"14.00\" text-anchor=\"middle\" x=\"450\" y=\"-31.3\">(?, 512)</text>\n<polyline fill=\"none\" points=\"419,-23.5 481,-23.5 \" stroke=\"#000000\"/>\n<text fill=\"#000000\" font-family=\"Times,serif\" font-size=\"14.00\" text-anchor=\"middle\" x=\"450\" y=\"-8.3\">(?, 10)</text>\n</g>\n<!-- 140009225500992&#45;&gt;140009225502336 -->\n<g class=\"edge\" id=\"edge20\">\n<title>140009225500992-&gt;140009225502336</title>\n<path d=\"M367.5,-83.3799C367.5,-75.1745 367.5,-65.7679 367.5,-56.8786\" fill=\"none\" stroke=\"#000000\"/>\n<polygon fill=\"#000000\" points=\"371.0001,-56.784 367.5,-46.784 364.0001,-56.784 371.0001,-56.784\" stroke=\"#000000\"/>\n</g>\n</g>\n</svg>"
          },
          "metadata": {
            "tags": []
          },
          "execution_count": 20
        }
      ]
    },
    {
      "cell_type": "code",
      "metadata": {
        "id": "8YLdWdT1Iiry",
        "outputId": "2c5a582d-b4e6-4fd4-a613-6002e131d39b",
        "colab": {
          "base_uri": "https://localhost:8080/",
          "height": 969
        }
      },
      "source": [
        "model.summary()"
      ],
      "execution_count": 21,
      "outputs": [
        {
          "output_type": "stream",
          "text": [
            "Model: \"functional_1\"\n",
            "__________________________________________________________________________________________________\n",
            "Layer (type)                    Output Shape         Param #     Connected to                     \n",
            "==================================================================================================\n",
            "input_1 (InputLayer)            [(None, 28, 28, 1)]  0                                            \n",
            "__________________________________________________________________________________________________\n",
            "input_2 (InputLayer)            [(None, 28, 28, 1)]  0                                            \n",
            "__________________________________________________________________________________________________\n",
            "conv2d (Conv2D)                 (None, 26, 26, 32)   320         input_1[0][0]                    \n",
            "__________________________________________________________________________________________________\n",
            "conv2d_3 (Conv2D)               (None, 24, 24, 32)   320         input_2[0][0]                    \n",
            "__________________________________________________________________________________________________\n",
            "max_pooling2d (MaxPooling2D)    (None, 13, 13, 32)   0           conv2d[0][0]                     \n",
            "__________________________________________________________________________________________________\n",
            "conv2d_4 (Conv2D)               (None, 20, 20, 64)   18496       conv2d_3[0][0]                   \n",
            "__________________________________________________________________________________________________\n",
            "conv2d_1 (Conv2D)               (None, 11, 11, 64)   18496       max_pooling2d[0][0]              \n",
            "__________________________________________________________________________________________________\n",
            "max_pooling2d_2 (MaxPooling2D)  (None, 10, 10, 64)   0           conv2d_4[0][0]                   \n",
            "__________________________________________________________________________________________________\n",
            "max_pooling2d_1 (MaxPooling2D)  (None, 5, 5, 64)     0           conv2d_1[0][0]                   \n",
            "__________________________________________________________________________________________________\n",
            "dropout_2 (Dropout)             (None, 10, 10, 64)   0           max_pooling2d_2[0][0]            \n",
            "__________________________________________________________________________________________________\n",
            "dropout (Dropout)               (None, 5, 5, 64)     0           max_pooling2d_1[0][0]            \n",
            "__________________________________________________________________________________________________\n",
            "conv2d_5 (Conv2D)               (None, 6, 6, 64)     36928       dropout_2[0][0]                  \n",
            "__________________________________________________________________________________________________\n",
            "conv2d_2 (Conv2D)               (None, 3, 3, 64)     36928       dropout[0][0]                    \n",
            "__________________________________________________________________________________________________\n",
            "max_pooling2d_3 (MaxPooling2D)  (None, 3, 3, 64)     0           conv2d_5[0][0]                   \n",
            "__________________________________________________________________________________________________\n",
            "dropout_1 (Dropout)             (None, 3, 3, 64)     0           conv2d_2[0][0]                   \n",
            "__________________________________________________________________________________________________\n",
            "dropout_3 (Dropout)             (None, 3, 3, 64)     0           max_pooling2d_3[0][0]            \n",
            "__________________________________________________________________________________________________\n",
            "concatenate (Concatenate)       (None, 3, 3, 128)    0           dropout_1[0][0]                  \n",
            "                                                                 dropout_3[0][0]                  \n",
            "__________________________________________________________________________________________________\n",
            "flatten (Flatten)               (None, 1152)         0           concatenate[0][0]                \n",
            "__________________________________________________________________________________________________\n",
            "dense (Dense)                   (None, 512)          590336      flatten[0][0]                    \n",
            "__________________________________________________________________________________________________\n",
            "dropout_4 (Dropout)             (None, 512)          0           dense[0][0]                      \n",
            "__________________________________________________________________________________________________\n",
            "dense_1 (Dense)                 (None, 10)           5130        dropout_4[0][0]                  \n",
            "==================================================================================================\n",
            "Total params: 706,954\n",
            "Trainable params: 706,954\n",
            "Non-trainable params: 0\n",
            "__________________________________________________________________________________________________\n"
          ],
          "name": "stdout"
        }
      ]
    },
    {
      "cell_type": "code",
      "metadata": {
        "id": "Q3_MIa78IxpH",
        "outputId": "4e885525-4765-4611-a793-77d62d574381",
        "colab": {
          "base_uri": "https://localhost:8080/",
          "height": 391
        }
      },
      "source": [
        "hist = model.fit([X_train, X_train], y_train,\n",
        "                 batch_size=batch_size,\n",
        "                 epochs=epoch,\n",
        "                 validation_data=([X_val, X_val], y_val))\n",
        "         "
      ],
      "execution_count": 22,
      "outputs": [
        {
          "output_type": "stream",
          "text": [
            "Epoch 1/10\n",
            "469/469 [==============================] - 14s 30ms/step - loss: 0.2275 - acc: 0.9297 - val_loss: 0.0628 - val_acc: 0.9798\n",
            "Epoch 2/10\n",
            "469/469 [==============================] - 14s 29ms/step - loss: 0.0615 - acc: 0.9805 - val_loss: 0.0443 - val_acc: 0.9854\n",
            "Epoch 3/10\n",
            "469/469 [==============================] - 14s 29ms/step - loss: 0.0438 - acc: 0.9866 - val_loss: 0.0362 - val_acc: 0.9888\n",
            "Epoch 4/10\n",
            "469/469 [==============================] - 14s 29ms/step - loss: 0.0364 - acc: 0.9890 - val_loss: 0.0280 - val_acc: 0.9912\n",
            "Epoch 5/10\n",
            "469/469 [==============================] - 14s 29ms/step - loss: 0.0288 - acc: 0.9914 - val_loss: 0.0371 - val_acc: 0.9880\n",
            "Epoch 6/10\n",
            "469/469 [==============================] - 14s 29ms/step - loss: 0.0267 - acc: 0.9917 - val_loss: 0.0351 - val_acc: 0.9884\n",
            "Epoch 7/10\n",
            "469/469 [==============================] - 14s 29ms/step - loss: 0.0245 - acc: 0.9918 - val_loss: 0.0361 - val_acc: 0.9894\n",
            "Epoch 8/10\n",
            "469/469 [==============================] - 14s 29ms/step - loss: 0.0210 - acc: 0.9934 - val_loss: 0.0339 - val_acc: 0.9878\n",
            "Epoch 9/10\n",
            "469/469 [==============================] - 14s 29ms/step - loss: 0.0201 - acc: 0.9934 - val_loss: 0.0359 - val_acc: 0.9888\n",
            "Epoch 10/10\n",
            "469/469 [==============================] - 13s 29ms/step - loss: 0.0170 - acc: 0.9944 - val_loss: 0.0278 - val_acc: 0.9922\n"
          ],
          "name": "stdout"
        }
      ]
    },
    {
      "cell_type": "code",
      "metadata": {
        "id": "CPPyl6TWWrJd"
      },
      "source": [
        "plt.plot?"
      ],
      "execution_count": 25,
      "outputs": []
    },
    {
      "cell_type": "markdown",
      "metadata": {
        "id": "3hXAOMKAgWOY"
      },
      "source": [
        "## 04. Visualizing the Result"
      ]
    },
    {
      "cell_type": "code",
      "metadata": {
        "id": "uimgoEBOgc61"
      },
      "source": [
        "import matplotlib.pyplot as plt"
      ],
      "execution_count": 23,
      "outputs": []
    },
    {
      "cell_type": "code",
      "metadata": {
        "id": "ofPKzTm3gyw4",
        "outputId": "43dfe9f3-f10b-4d27-db44-d5f947845b8b",
        "colab": {
          "base_uri": "https://localhost:8080/",
          "height": 300
        }
      },
      "source": [
        "plt.figure(figsize=(10, 4))\n",
        "# acc\n",
        "plt.subplot(1, 2, 1)\n",
        "plt.title(\"Accuracy\")\n",
        "plt.plot(hist.history['acc'], 'r-')\n",
        "plt.plot(hist.history['val_acc'], 'b-')\n",
        "\n",
        "plt.subplot(1, 2, 2)\n",
        "plt.title(\"Loss\")\n",
        "plt.plot(hist.history['loss'], 'r-')\n",
        "plt.plot(hist.history['val_loss'], 'b-')"
      ],
      "execution_count": 41,
      "outputs": [
        {
          "output_type": "execute_result",
          "data": {
            "text/plain": [
              "[<matplotlib.lines.Line2D at 0x7f5621835d68>]"
            ]
          },
          "metadata": {
            "tags": []
          },
          "execution_count": 41
        },
        {
          "output_type": "display_data",
          "data": {
            "image/png": "[encoded data removed]",
            "text/plain": [
              "<Figure size 720x288 with 2 Axes>"
            ]
          },
          "metadata": {
            "tags": [],
            "needs_background": "light"
          }
        }
      ]
    },
    {
      "cell_type": "code",
      "metadata": {
        "id": "6UOnHYBHhp5E"
      },
      "source": [
        ""
      ],
      "execution_count": null,
      "outputs": []
    },
    {
      "cell_type": "markdown",
      "metadata": {
        "id": "Qq0orWOBiifM"
      },
      "source": [
        "## 05. Testing"
      ]
    },
    {
      "cell_type": "code",
      "metadata": {
        "id": "cTW4uK71ildA",
        "outputId": "918a9f05-67c0-45a0-9601-0a48bfb185fa",
        "colab": {
          "base_uri": "https://localhost:8080/",
          "height": 36
        }
      },
      "source": [
        "score = model.evaluate([X_test, X_test], y_test, verbose=1, batch_size=batch_size)"
      ],
      "execution_count": 34,
      "outputs": [
        {
          "output_type": "stream",
          "text": [
            "40/40 [==============================] - 1s 14ms/step - loss: 0.0103 - acc: 0.9966\n"
          ],
          "name": "stdout"
        }
      ]
    },
    {
      "cell_type": "code",
      "metadata": {
        "id": "U5bMGyWPirEc",
        "outputId": "85ce081a-ccb7-49b2-b9c5-57838f2c6ea4",
        "colab": {
          "base_uri": "https://localhost:8080/",
          "height": 55
        }
      },
      "source": [
        "print(\"Test Accuracy: \", score[1])\n",
        "print(\"Test Loss: \", score[0])"
      ],
      "execution_count": 35,
      "outputs": [
        {
          "output_type": "stream",
          "text": [
            "Test Accuracy:  0.9965999722480774\n",
            "Test Loss:  0.010294266045093536\n"
          ],
          "name": "stdout"
        }
      ]
    },
    {
      "cell_type": "code",
      "metadata": {
        "id": "Jm4T60jhjCTr"
      },
      "source": [
        "x_pred = model.predict([X_test, X_test])\n",
        "y_pred = np.argmax(x_pred, axis=1)\n",
        "y_true = np.argmax(y_test, axis=1)"
      ],
      "execution_count": 36,
      "outputs": []
    },
    {
      "cell_type": "code",
      "metadata": {
        "id": "XqrdYJuBjsbd"
      },
      "source": [
        "false_res = []\n",
        "\n",
        "for n in range(0, len(y_true)):\n",
        "  if y_pred[n] != y_true[n]:\n",
        "    false_res.append(n)"
      ],
      "execution_count": 37,
      "outputs": []
    },
    {
      "cell_type": "code",
      "metadata": {
        "id": "GBF9gRWGj95e",
        "outputId": "87007553-bcc5-4e8b-dfe4-1a3de4acab11",
        "colab": {
          "base_uri": "https://localhost:8080/",
          "height": 36
        }
      },
      "source": [
        "# 5000개 중 틀린 이미지 총 17개\n",
        "len(false_res)"
      ],
      "execution_count": 38,
      "outputs": [
        {
          "output_type": "execute_result",
          "data": {
            "text/plain": [
              "17"
            ]
          },
          "metadata": {
            "tags": []
          },
          "execution_count": 38
        }
      ]
    },
    {
      "cell_type": "code",
      "metadata": {
        "id": "ye17JUZfkAYH",
        "outputId": "51902036-24e6-41fe-b949-1e939b3b70c1",
        "colab": {
          "base_uri": "https://localhost:8080/",
          "height": 873
        }
      },
      "source": [
        "# 틀린 이미지 보기\n",
        "\n",
        "cnt = 0\n",
        "nrows = 5\n",
        "ncols = 4\n",
        "\n",
        "plt.figure(figsize=(12, 12))\n",
        "\n",
        "for n in false_res:\n",
        "  cnt += 1\n",
        "  plt.subplot(nrows, ncols, cnt)\n",
        "  plt.imshow(X_test[n].reshape(28, 28), cmap='gray', interpolation='nearest')\n",
        "  tmp = \"Label:\" + str(y_true[n]) + \", Prediction:\" + str(y_pred[n])\n",
        "  plt.title(tmp)\n",
        "\n",
        "plt.tight_layout()\n",
        "plt.show()"
      ],
      "execution_count": 40,
      "outputs": [
        {
          "output_type": "display_data",
          "data": {
            "image/png": "[encoded data removed]",
            "text/plain": [
              "<Figure size 864x864 with 17 Axes>"
            ]
          },
          "metadata": {
            "tags": [],
            "needs_background": "light"
          }
        }
      ]
    },
    {
      "cell_type": "code",
      "metadata": {
        "id": "hxi7xCrBk_pI"
      },
      "source": [
        ""
      ],
      "execution_count": null,
      "outputs": []
    }
  ]
}